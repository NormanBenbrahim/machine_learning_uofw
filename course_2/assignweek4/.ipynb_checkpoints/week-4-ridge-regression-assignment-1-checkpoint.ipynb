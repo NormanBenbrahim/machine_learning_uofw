{
 "cells": [
  {
   "cell_type": "markdown",
   "metadata": {},
   "source": [
    "# Regression Week 4: Ridge Regression (interpretation)"
   ]
  },
  {
   "cell_type": "markdown",
   "metadata": {},
   "source": [
    "In this notebook, we will run ridge regression multiple times with different L2 penalties to see which one produces the best fit. We will revisit the example of polynomial regression as a means to see the effect of L2 regularization. In particular, we will:\n",
    "* Use a pre-built implementation of regression (GraphLab Create) to run polynomial regression\n",
    "* Use matplotlib to visualize polynomial regressions\n",
    "* Use a pre-built implementation of regression (GraphLab Create) to run polynomial regression, this time with L2 penalty\n",
    "* Use matplotlib to visualize polynomial regressions under L2 regularization\n",
    "* Choose best L2 penalty using cross-validation.\n",
    "* Assess the final fit using test data.\n",
    "\n",
    "We will continue to use the House data from previous notebooks.  (In the next programming assignment for this module, you will implement your own ridge regression learning algorithm using gradient descent.)"
   ]
  },
  {
   "cell_type": "markdown",
   "metadata": {},
   "source": [
    "# Fire up graphlab create"
   ]
  },
  {
   "cell_type": "code",
   "execution_count": 1,
   "metadata": {
    "collapsed": false
   },
   "outputs": [],
   "source": [
    "import graphlab"
   ]
  },
  {
   "cell_type": "markdown",
   "metadata": {},
   "source": [
    "# Polynomial regression, revisited"
   ]
  },
  {
   "cell_type": "markdown",
   "metadata": {},
   "source": [
    "We build on the material from Week 3, where we wrote the function to produce an SFrame with columns containing the powers of a given input. Copy and paste the function `polynomial_sframe` from Week 3:"
   ]
  },
  {
   "cell_type": "code",
   "execution_count": 2,
   "metadata": {
    "collapsed": true
   },
   "outputs": [],
   "source": [
    "def polynomial_sframe(feature, degree):\n",
    "    # assume that degree >= 1\n",
    "    # initialize the SFrame:\n",
    "    poly_sframe = graphlab.SFrame()\n",
    "    \n",
    "    # and set poly_sframe['power_1'] equal to the passed feature\n",
    "    poly_sframe['power_1'] = feature\n",
    "    \n",
    "    # first check if degree > 1\n",
    "    if degree > 1:\n",
    "        # then loop over the remaining degrees:\n",
    "        # range usually starts at 0 and stops at the endpoint-1. We want it to start at 2 and stop at degree\n",
    "        for power in range(2, degree+1): \n",
    "            # first we'll give the column a name:\n",
    "            name = 'power_' + str(power)\n",
    "            \n",
    "            # then assign poly_sframe[name] to the appropriate power of feature\n",
    "            poly_sframe[name] = feature.apply(lambda x: x ** power)\n",
    "            \n",
    "    return poly_sframe"
   ]
  },
  {
   "cell_type": "markdown",
   "metadata": {},
   "source": [
    "Let's use matplotlib to visualize what a polynomial regression looks like on the house data."
   ]
  },
  {
   "cell_type": "code",
   "execution_count": 3,
   "metadata": {
    "collapsed": false
   },
   "outputs": [
    {
     "name": "stderr",
     "output_type": "stream",
     "text": [
      "[INFO] This non-commercial license of GraphLab Create is assigned to nbenbrahim@robarts.ca and will expire on December 04, 2016. For commercial licensing options, visit https://dato.com/buy/.\n",
      "\n",
      "[INFO] Start server at: ipc:///tmp/graphlab_server-4873 - Server binary: /Users/nbenbrahim/Library/Enthought/Canopy_64bit/User/lib/python2.7/site-packages/graphlab/unity_server - Server log: /tmp/graphlab_server_1452981711.log\n",
      "[INFO] GraphLab Server Version: 1.8\n"
     ]
    }
   ],
   "source": [
    "import matplotlib.pyplot as plt\n",
    "%matplotlib inline"
   ]
  },
  {
   "cell_type": "code",
   "execution_count": 92,
   "metadata": {
    "collapsed": false
   },
   "outputs": [],
   "source": [
    "sales = graphlab.SFrame('kc_house_data.gl/')"
   ]
  },
  {
   "cell_type": "markdown",
   "metadata": {},
   "source": [
    "As in Week 3, we will use the sqft_living variable. For plotting purposes (connecting the dots), you'll need to sort by the values of sqft_living. For houses with identical square footage, we break the tie by their prices."
   ]
  },
  {
   "cell_type": "code",
   "execution_count": 5,
   "metadata": {
    "collapsed": false
   },
   "outputs": [],
   "source": [
    "sales = sales.sort(['sqft_living','price'])"
   ]
  },
  {
   "cell_type": "markdown",
   "metadata": {},
   "source": [
    "Let us revisit the 15th-order polynomial model using the 'sqft_living' input. Generate polynomial features up to degree 15 using `polynomial_sframe()` and fit a model with these features. When fitting the model, use an L2 penalty of `1e-5`:"
   ]
  },
  {
   "cell_type": "code",
   "execution_count": 8,
   "metadata": {
    "collapsed": true
   },
   "outputs": [],
   "source": [
    "l2_small_penalty = 1e-5"
   ]
  },
  {
   "cell_type": "markdown",
   "metadata": {},
   "source": [
    "Note: When we have so many features and so few data points, the solution can become highly numerically unstable, which can sometimes lead to strange unpredictable results.  Thus, rather than using no regularization, we will introduce a tiny amount of regularization (`l2_penalty=1e-5`) to make the solution numerically stable.  (In lecture, we discussed the fact that regularization can also help with numerical stability, and here we are seeing a practical example.)\n",
    "\n",
    "With the L2 penalty specified above, fit the model and print out the learned weights.\n",
    "\n",
    "Hint: make sure to add 'price' column to the new SFrame before calling `graphlab.linear_regression.create()`. Also, make sure GraphLab Create doesn't create its own validation set by using the option `validation_set=None` in this call."
   ]
  },
  {
   "cell_type": "code",
   "execution_count": 9,
   "metadata": {
    "collapsed": false
   },
   "outputs": [
    {
     "name": "stdout",
     "output_type": "stream",
     "text": [
      "PROGRESS: Linear regression:\n",
      "PROGRESS: --------------------------------------------------------\n",
      "PROGRESS: Number of examples          : 21613\n",
      "PROGRESS: Number of features          : 15\n",
      "PROGRESS: Number of unpacked features : 15\n",
      "PROGRESS: Number of coefficients    : 16\n",
      "PROGRESS: Starting Newton Method\n",
      "PROGRESS: --------------------------------------------------------\n",
      "PROGRESS: +-----------+----------+--------------+--------------------+---------------+\n",
      "PROGRESS: | Iteration | Passes   | Elapsed Time | Training-max_error | Training-rmse |\n",
      "PROGRESS: +-----------+----------+--------------+--------------------+---------------+\n",
      "PROGRESS: | 1         | 2        | 1.040211     | 2662555.738658     | 245656.462166 |\n",
      "PROGRESS: +-----------+----------+--------------+--------------------+---------------+\n",
      "PROGRESS: SUCCESS: Optimal solution found.\n",
      "PROGRESS:\n"
     ]
    }
   ],
   "source": [
    "poly15 = polynomial_sframe(sales['sqft_living'], 15)\n",
    "my_features = poly15.column_names()\n",
    "poly15['price'] = sales['price']\n",
    "\n",
    "model = graphlab.linear_regression.create(poly15,\n",
    "                                          target='price',\n",
    "                                          features = my_features,\n",
    "                                          validation_set = None,\n",
    "                                          l2_penalty = l2_small_penalty)"
   ]
  },
  {
   "cell_type": "markdown",
   "metadata": {},
   "source": [
    "***QUIZ QUESTION:  What's the learned value for the coefficient of feature `power_1`?***"
   ]
  },
  {
   "cell_type": "code",
   "execution_count": 10,
   "metadata": {
    "collapsed": false
   },
   "outputs": [
    {
     "data": {
      "text/plain": [
       "{'index': None,\n",
       " 'name': 'power_1',\n",
       " 'stderr': 4735.64035967028,\n",
       " 'value': 103.09095591973461}"
      ]
     },
     "execution_count": 10,
     "metadata": {},
     "output_type": "execute_result"
    }
   ],
   "source": [
    "model.get('coefficients')[1]"
   ]
  },
  {
   "cell_type": "markdown",
   "metadata": {},
   "source": [
    "The value is 103.09"
   ]
  },
  {
   "cell_type": "markdown",
   "metadata": {},
   "source": [
    "# Observe overfitting"
   ]
  },
  {
   "cell_type": "markdown",
   "metadata": {},
   "source": [
    "Recall from Week 3 that the polynomial fit of degree 15 changed wildly whenever the data changed. In particular, when we split the sales data into four subsets and fit the model of degree 15, the result came out to be very different for each subset. The model had a *high variance*. We will see in a moment that ridge regression reduces such variance. But first, we must reproduce the experiment we did in Week 3."
   ]
  },
  {
   "cell_type": "markdown",
   "metadata": {},
   "source": [
    "First, split the data into split the sales data into four subsets of roughly equal size and call them `set_1`, `set_2`, `set_3`, and `set_4`. Use `.random_split` function and make sure you set `seed=0`. "
   ]
  },
  {
   "cell_type": "code",
   "execution_count": 12,
   "metadata": {
    "collapsed": true
   },
   "outputs": [],
   "source": [
    "(semi_split1, semi_split2) = sales.random_split(.5,seed = 0)\n",
    "(set_1, set_2) = semi_split1.random_split(0.5, seed = 0)\n",
    "(set_3, set_4) = semi_split2.random_split(0.5, seed = 0)"
   ]
  },
  {
   "cell_type": "markdown",
   "metadata": {},
   "source": [
    "Next, fit a 15th degree polynomial on `set_1`, `set_2`, `set_3`, and `set_4`, using 'sqft_living' to predict prices. Print the weights and make a plot of the resulting model.\n",
    "\n",
    "Hint: When calling `graphlab.linear_regression.create()`, use the same L2 penalty as before (i.e. `l2_small_penalty`).  Also, make sure GraphLab Create doesn't create its own validation set by using the option `validation_set = None` in this call."
   ]
  },
  {
   "cell_type": "code",
   "execution_count": 14,
   "metadata": {
    "collapsed": false
   },
   "outputs": [],
   "source": [
    "# prepare the data\n",
    "\n",
    "# set 1 \n",
    "poly15_set1 = polynomial_sframe(set_1['sqft_living'], 15)\n",
    "my_features1 = poly15_set1.column_names()\n",
    "poly15_set1['price'] = set_1['price']\n",
    "\n",
    "# set 2\n",
    "poly15_set2 = polynomial_sframe(set_2['sqft_living'], 15)\n",
    "my_features2 = poly15_set2.column_names()\n",
    "poly15_set2['price'] = set_2['price']\n",
    "\n",
    "# set3 \n",
    "poly15_set3 = polynomial_sframe(set_3['sqft_living'], 15)\n",
    "my_features3 = poly15_set3.column_names()\n",
    "poly15_set3['price'] = set_3['price']\n",
    "\n",
    "# set 4\n",
    "poly15_set4 = polynomial_sframe(set_4['sqft_living'], 15)\n",
    "my_features4 = poly15_set4.column_names()\n",
    "poly15_set4['price'] = set_4['price']"
   ]
  },
  {
   "cell_type": "code",
   "execution_count": 16,
   "metadata": {
    "collapsed": false,
    "scrolled": false
   },
   "outputs": [],
   "source": [
    "# fit the models\n",
    "model_set1 = graphlab.linear_regression.create(poly15_set1,\n",
    "                                               target = 'price',\n",
    "                                               features = my_features1,\n",
    "                                               l2_penalty = l2_small_penalty,\n",
    "                                               validation_set = None,\n",
    "                                               verbose = False)\n",
    "\n",
    "model_set2 = graphlab.linear_regression.create(poly15_set2,\n",
    "                                               target = 'price',\n",
    "                                               features = my_features2,\n",
    "                                               l2_penalty = l2_small_penalty,\n",
    "                                               validation_set = None,\n",
    "                                               verbose = False)\n",
    "\n",
    "model_set3 = graphlab.linear_regression.create(poly15_set3,\n",
    "                                               target = 'price',\n",
    "                                               features = my_features3,\n",
    "                                               l2_penalty = l2_small_penalty,\n",
    "                                               validation_set = None,\n",
    "                                               verbose = False)\n",
    "\n",
    "model_set4 = graphlab.linear_regression.create(poly15_set4,\n",
    "                                               target = 'price',\n",
    "                                               features = my_features4,\n",
    "                                               l2_penalty = l2_small_penalty,\n",
    "                                               validation_set = None,\n",
    "                                               verbose = False)"
   ]
  },
  {
   "cell_type": "code",
   "execution_count": 23,
   "metadata": {
    "collapsed": false
   },
   "outputs": [
    {
     "data": {
      "text/plain": [
       "<matplotlib.text.Text at 0x118b78790>"
      ]
     },
     "execution_count": 23,
     "metadata": {},
     "output_type": "execute_result"
    },
    {
     "data": {
      "image/png": "[encoded data removed]",
      "text/plain": [
       "<matplotlib.figure.Figure at 0x1188aad50>"
      ]
     },
     "metadata": {},
     "output_type": "display_data"
    },
    {
     "data": {
      "image/png": "[encoded data removed]",
      "text/plain": [
       "<matplotlib.figure.Figure at 0x1188aadd0>"
      ]
     },
     "metadata": {},
     "output_type": "display_data"
    },
    {
     "data": {
      "image/png": "[encoded data removed]",
      "text/plain": [
       "<matplotlib.figure.Figure at 0x1188fb410>"
      ]
     },
     "metadata": {},
     "output_type": "display_data"
    },
    {
     "data": {
      "image/png": "[encoded data removed]",
      "text/plain": [
       "<matplotlib.figure.Figure at 0x118983990>"
      ]
     },
     "metadata": {},
     "output_type": "display_data"
    }
   ],
   "source": [
    "# the plots\n",
    "\n",
    "# model1\n",
    "plt.figure()\n",
    "plt.plot(poly15_set1['power_1'], poly15_set1['price'], '.',\n",
    "         poly15_set1['power_1'], model_set1.predict(poly15_set1), '-')\n",
    "plt.title(\"Set 1\")\n",
    "\n",
    "# model2 \n",
    "plt.figure()\n",
    "plt.plot(poly15_set2['power_1'], poly15_set2['price'], '.',\n",
    "         poly15_set2['power_1'], model_set2.predict(poly15_set2), '-')\n",
    "plt.title(\"Set 2\")\n",
    "\n",
    "# model3\n",
    "plt.figure()\n",
    "plt.plot(poly15_set3['power_1'], poly15_set3['price'], '.',\n",
    "         poly15_set3['power_1'], model_set3.predict(poly15_set3), '-')\n",
    "plt.title(\"Set 3\")\n",
    "\n",
    "# model4\n",
    "plt.figure()\n",
    "plt.plot(poly15_set4['power_1'], poly15_set4['price'], '.',\n",
    "         poly15_set4['power_1'], model_set4.predict(poly15_set4), '-')\n",
    "plt.title(\"Set 4\")"
   ]
  },
  {
   "cell_type": "code",
   "execution_count": 22,
   "metadata": {
    "collapsed": false
   },
   "outputs": [
    {
     "name": "stdout",
     "output_type": "stream",
     "text": [
      "Model 1: \n",
      "585.865823394\n",
      "\n",
      "Model 2: \n",
      "783.49380028\n",
      "\n",
      "Model 3: \n",
      "-759.251842854\n",
      "\n",
      "Model 4: \n",
      "1247.59034541\n",
      "\n"
     ]
    }
   ],
   "source": [
    "# print the coefficient for power_1\n",
    "print \"Model 1: \"\n",
    "print model_set1.get('coefficients')[1]['value']\n",
    "print \"\"\n",
    "\n",
    "print \"Model 2: \"\n",
    "print model_set2.get('coefficients')[1]['value']\n",
    "print \"\"\n",
    "\n",
    "print \"Model 3: \"\n",
    "print model_set3.get('coefficients')[1]['value']\n",
    "print \"\"\n",
    "\n",
    "print \"Model 4: \"\n",
    "print model_set4.get('coefficients')[1]['value']\n",
    "print \"\""
   ]
  },
  {
   "cell_type": "markdown",
   "metadata": {},
   "source": [
    "The four curves should differ from one another a lot, as should the coefficients you learned.\n",
    "\n",
    "***QUIZ QUESTION:  For the models learned in each of these training sets, what are the smallest and largest values you learned for the coefficient of feature `power_1`?***  (For the purpose of answering this question, negative numbers are considered \"smaller\" than positive numbers. So -5 is smaller than -3, and -3 is smaller than 5 and so forth.)"
   ]
  },
  {
   "cell_type": "markdown",
   "metadata": {},
   "source": [
    "Smallest value is -759.25, largest value is 1247.59"
   ]
  },
  {
   "cell_type": "markdown",
   "metadata": {},
   "source": [
    "# Ridge regression comes to rescue"
   ]
  },
  {
   "cell_type": "markdown",
   "metadata": {},
   "source": [
    "Generally, whenever we see weights change so much in response to change in data, we believe the variance of our estimate to be large. Ridge regression aims to address this issue by penalizing \"large\" weights. (Weights of `model15` looked quite small, but they are not that small because 'sqft_living' input is in the order of thousands.)\n",
    "\n",
    "With the argument `l2_penalty=1e5`, fit a 15th-order polynomial model on `set_1`, `set_2`, `set_3`, and `set_4`. Other than the change in the `l2_penalty` parameter, the code should be the same as the experiment above. Also, make sure GraphLab Create doesn't create its own validation set by using the option `validation_set = None` in this call."
   ]
  },
  {
   "cell_type": "code",
   "execution_count": 24,
   "metadata": {
    "collapsed": false,
    "scrolled": false
   },
   "outputs": [],
   "source": [
    "# models \n",
    "# fit the models\n",
    "model_set1_ridge = graphlab.linear_regression.create(poly15_set1,\n",
    "                                                     target = 'price',\n",
    "                                                     features = my_features1,\n",
    "                                                     l2_penalty = 1e5,\n",
    "                                                     validation_set = None,\n",
    "                                                     verbose = False)\n",
    "\n",
    "model_set2_ridge = graphlab.linear_regression.create(poly15_set2,\n",
    "                                                     target = 'price',\n",
    "                                                     features = my_features2,\n",
    "                                                     l2_penalty = 1e5,\n",
    "                                                     validation_set = None,\n",
    "                                                     verbose = False)\n",
    "\n",
    "model_set3_ridge = graphlab.linear_regression.create(poly15_set3,\n",
    "                                                     target = 'price',\n",
    "                                                     features = my_features3,\n",
    "                                                     l2_penalty = 1e5,\n",
    "                                                     validation_set = None,\n",
    "                                                     verbose = False)\n",
    "\n",
    "model_set4_ridge = graphlab.linear_regression.create(poly15_set4,\n",
    "                                                     target = 'price',\n",
    "                                                     features = my_features4,\n",
    "                                                     l2_penalty = 1e5,\n",
    "                                                     validation_set = None,\n",
    "                                                     verbose = False)"
   ]
  },
  {
   "cell_type": "code",
   "execution_count": 26,
   "metadata": {
    "collapsed": false,
    "scrolled": false
   },
   "outputs": [
    {
     "data": {
      "text/plain": [
       "<matplotlib.text.Text at 0x119749fd0>"
      ]
     },
     "execution_count": 26,
     "metadata": {},
     "output_type": "execute_result"
    },
    {
     "data": {
      "image/png": "[encoded data removed]",
      "text/plain": [
       "<matplotlib.figure.Figure at 0x1192c2ed0>"
      ]
     },
     "metadata": {},
     "output_type": "display_data"
    },
    {
     "data": {
      "image/png": "[encoded data removed]",
      "text/plain": [
       "<matplotlib.figure.Figure at 0x1192bbe50>"
      ]
     },
     "metadata": {},
     "output_type": "display_data"
    },
    {
     "data": {
      "image/png": "[encoded data removed]",
      "text/plain": [
       "<matplotlib.figure.Figure at 0x1195ede90>"
      ]
     },
     "metadata": {},
     "output_type": "display_data"
    },
    {
     "data": {
      "image/png": "[encoded data removed]",
      "text/plain": [
       "<matplotlib.figure.Figure at 0x119631550>"
      ]
     },
     "metadata": {},
     "output_type": "display_data"
    }
   ],
   "source": [
    "# the plots\n",
    "\n",
    "# model1\n",
    "plt.figure()\n",
    "plt.plot(poly15_set1['power_1'], poly15_set1['price'], '.',\n",
    "         poly15_set1['power_1'], model_set1_ridge.predict(poly15_set1), '-')\n",
    "plt.title(\"Set 1\")\n",
    "\n",
    "# model2 \n",
    "plt.figure()\n",
    "plt.plot(poly15_set2['power_1'], poly15_set2['price'], '.',\n",
    "         poly15_set2['power_1'], model_set2_ridge.predict(poly15_set2), '-')\n",
    "plt.title(\"Set 2\")\n",
    "\n",
    "# model3\n",
    "plt.figure()\n",
    "plt.plot(poly15_set3['power_1'], poly15_set3['price'], '.',\n",
    "         poly15_set3['power_1'], model_set3_ridge.predict(poly15_set3), '-')\n",
    "plt.title(\"Set 3\")\n",
    "\n",
    "# model4\n",
    "plt.figure()\n",
    "plt.plot(poly15_set4['power_1'], poly15_set4['price'], '.',\n",
    "         poly15_set4['power_1'], model_set4_ridge.predict(poly15_set4), '-')\n",
    "plt.title(\"Set 4\")"
   ]
  },
  {
   "cell_type": "code",
   "execution_count": 27,
   "metadata": {
    "collapsed": false
   },
   "outputs": [
    {
     "name": "stdout",
     "output_type": "stream",
     "text": [
      "Model 1: \n",
      "2.58738875673\n",
      "\n",
      "Model 2: \n",
      "2.04470474182\n",
      "\n",
      "Model 3: \n",
      "2.26890421877\n",
      "\n",
      "Model 4: \n",
      "1.91040938244\n",
      "\n"
     ]
    }
   ],
   "source": [
    "# print the coefficient for power_1\n",
    "print \"Model 1: \"\n",
    "print model_set1_ridge.get('coefficients')[1]['value']\n",
    "print \"\"\n",
    "\n",
    "print \"Model 2: \"\n",
    "print model_set2_ridge.get('coefficients')[1]['value']\n",
    "print \"\"\n",
    "\n",
    "print \"Model 3: \"\n",
    "print model_set3_ridge.get('coefficients')[1]['value']\n",
    "print \"\"\n",
    "\n",
    "print \"Model 4: \"\n",
    "print model_set4_ridge.get('coefficients')[1]['value']\n",
    "print \"\""
   ]
  },
  {
   "cell_type": "markdown",
   "metadata": {},
   "source": [
    "These curves should vary a lot less, now that you applied a high degree of regularization.\n",
    "\n",
    "***QUIZ QUESTION:  For the models learned with the high level of regularization in each of these training sets, what are the smallest and largest values you learned for the coefficient of feature `power_1`?*** (For the purpose of answering this question, negative numbers are considered \"smaller\" than positive numbers. So -5 is smaller than -3, and -3 is smaller than 5 and so forth.)"
   ]
  },
  {
   "cell_type": "markdown",
   "metadata": {},
   "source": [
    "Smallest is 1.91, largest is 2.58"
   ]
  },
  {
   "cell_type": "markdown",
   "metadata": {},
   "source": [
    "# Selecting an L2 penalty via cross-validation"
   ]
  },
  {
   "cell_type": "markdown",
   "metadata": {},
   "source": [
    "Just like the polynomial degree, the L2 penalty is a \"magic\" parameter we need to select. We could use the validation set approach as we did in the last module, but that approach has a major disadvantage: it leaves fewer observations available for training. **Cross-validation** seeks to overcome this issue by using all of the training set in a smart way.\n",
    "\n",
    "We will implement a kind of cross-validation called **k-fold cross-validation**. The method gets its name because it involves dividing the training set into k segments of roughtly equal size. Similar to the validation set method, we measure the validation error with one of the segments designated as the validation set. The major difference is that we repeat the process k times as follows:\n",
    "\n",
    "Set aside segment 0 as the validation set, and fit a model on rest of data, and evalutate it on this validation set<br>\n",
    "Set aside segment 1 as the validation set, and fit a model on rest of data, and evalutate it on this validation set<br>\n",
    "...<br>\n",
    "Set aside segment k-1 as the validation set, and fit a model on rest of data, and evalutate it on this validation set\n",
    "\n",
    "After this process, we compute the average of the k validation errors, and use it as an estimate of the generalization error. Notice that  all observations are used for both training and validation, as we iterate over segments of data. \n",
    "\n",
    "To estimate the generalization error well, it is crucial to shuffle the training data before dividing them into segments. GraphLab Create has a utility function for shuffling a given SFrame. We reserve 10% of the data as the test set and shuffle the remainder. (Make sure to use `seed=1` to get consistent answer.)"
   ]
  },
  {
   "cell_type": "code",
   "execution_count": 28,
   "metadata": {
    "collapsed": true
   },
   "outputs": [],
   "source": [
    "(train_valid, test) = sales.random_split(.9, seed=1)\n",
    "train_valid_shuffled = graphlab.toolkits.cross_validation.shuffle(train_valid, random_seed=1)"
   ]
  },
  {
   "cell_type": "markdown",
   "metadata": {},
   "source": [
    "Once the data is shuffled, we divide it into equal segments. Each segment should receive `n/k` elements, where `n` is the number of observations in the training set and `k` is the number of segments. Since the segment 0 starts at index 0 and contains `n/k` elements, it ends at index `(n/k)-1`. The segment 1 starts where the segment 0 left off, at index `(n/k)`. With `n/k` elements, the segment 1 ends at index `(n*2/k)-1`. Continuing in this fashion, we deduce that the segment `i` starts at index `(n*i/k)` and ends at `(n*(i+1)/k)-1`."
   ]
  },
  {
   "cell_type": "markdown",
   "metadata": {},
   "source": [
    "With this pattern in mind, we write a short loop that prints the starting and ending indices of each segment, just to make sure you are getting the splits right."
   ]
  },
  {
   "cell_type": "code",
   "execution_count": 29,
   "metadata": {
    "collapsed": false
   },
   "outputs": [
    {
     "name": "stdout",
     "output_type": "stream",
     "text": [
      "0 (0, 1938)\n",
      "1 (1939, 3878)\n",
      "2 (3879, 5817)\n",
      "3 (5818, 7757)\n",
      "4 (7758, 9697)\n",
      "5 (9698, 11636)\n",
      "6 (11637, 13576)\n",
      "7 (13577, 15515)\n",
      "8 (15516, 17455)\n",
      "9 (17456, 19395)\n"
     ]
    }
   ],
   "source": [
    "n = len(train_valid_shuffled)\n",
    "k = 10 # 10-fold cross-validation\n",
    "\n",
    "for i in xrange(k):\n",
    "    start = (n*i)/k\n",
    "    end = (n*(i+1))/k - 1\n",
    "    print i, (start, end)"
   ]
  },
  {
   "cell_type": "markdown",
   "metadata": {
    "collapsed": false
   },
   "source": [
    "Let us familiarize ourselves with array slicing with SFrame. To extract a continuous slice from an SFrame, use colon in square brackets. For instance, the following cell extracts rows 0 to 9 of `train_valid_shuffled`. Notice that the first index (0) is included in the slice but the last index (10) is omitted."
   ]
  },
  {
   "cell_type": "markdown",
   "metadata": {},
   "source": [
    "Now let us extract individual segments with array slicing. Consider the scenario where we group the houses in the `train_valid_shuffled` dataframe into k=10 segments of roughly equal size, with starting and ending indices computed as above.\n",
    "Extract the fourth segment (segment 3) and assign it to a variable called `validation4`."
   ]
  },
  {
   "cell_type": "code",
   "execution_count": 48,
   "metadata": {
    "collapsed": false
   },
   "outputs": [],
   "source": [
    "validation4 = train_valid_shuffled[n*3/k:n*4/k-1+1] # note the +1 for 0 indexing"
   ]
  },
  {
   "cell_type": "markdown",
   "metadata": {},
   "source": [
    "To verify that we have the right elements extracted, run the following cell, which computes the average price of the fourth segment. When rounded to nearest whole number, the average should be $536,234."
   ]
  },
  {
   "cell_type": "code",
   "execution_count": 49,
   "metadata": {
    "collapsed": false
   },
   "outputs": [
    {
     "name": "stdout",
     "output_type": "stream",
     "text": [
      "536234\n"
     ]
    }
   ],
   "source": [
    "print int(round(validation4['price'].mean(), 0))"
   ]
  },
  {
   "cell_type": "markdown",
   "metadata": {},
   "source": [
    "After designating one of the k segments as the validation set, we train a model using the rest of the data. To choose the remainder, we slice (0:start) and (end+1:n) of the data and paste them together. SFrame has `append()` method that pastes together two disjoint sets of rows originating from a common dataset. For instance, the following cell pastes together the first and last two rows of the `train_valid_shuffled` dataframe."
   ]
  },
  {
   "cell_type": "code",
   "execution_count": 50,
   "metadata": {
    "collapsed": false
   },
   "outputs": [
    {
     "name": "stdout",
     "output_type": "stream",
     "text": [
      "+------------+---------------------------+-----------+----------+-----------+\n",
      "|     id     |            date           |   price   | bedrooms | bathrooms |\n",
      "+------------+---------------------------+-----------+----------+-----------+\n",
      "| 2780400035 | 2014-05-05 00:00:00+00:00 |  665000.0 |   4.0    |    2.5    |\n",
      "| 1703050500 | 2015-03-21 00:00:00+00:00 |  645000.0 |   3.0    |    2.5    |\n",
      "| 4139480190 | 2014-09-16 00:00:00+00:00 | 1153000.0 |   3.0    |    3.25   |\n",
      "| 7237300290 | 2015-03-26 00:00:00+00:00 |  338000.0 |   5.0    |    2.5    |\n",
      "+------------+---------------------------+-----------+----------+-----------+\n",
      "+-------------+----------+--------+------------+------+-----------+-------+------------+\n",
      "| sqft_living | sqft_lot | floors | waterfront | view | condition | grade | sqft_above |\n",
      "+-------------+----------+--------+------------+------+-----------+-------+------------+\n",
      "|    2800.0   |   5900   |   1    |     0      |  0   |     3     |   8   |    1660    |\n",
      "|    2490.0   |   5978   |   2    |     0      |  0   |     3     |   9   |    2490    |\n",
      "|    3780.0   |  10623   |   1    |     0      |  1   |     3     |   11  |    2650    |\n",
      "|    2400.0   |   4496   |   2    |     0      |  0   |     3     |   7   |    2400    |\n",
      "+-------------+----------+--------+------------+------+-----------+-------+------------+\n",
      "+---------------+----------+--------------+---------+-------------+\n",
      "| sqft_basement | yr_built | yr_renovated | zipcode |     lat     |\n",
      "+---------------+----------+--------------+---------+-------------+\n",
      "|      1140     |   1963   |      0       |  98115  | 47.68093246 |\n",
      "|       0       |   2003   |      0       |  98074  | 47.62984888 |\n",
      "|      1130     |   1999   |      0       |  98006  | 47.55061236 |\n",
      "|       0       |   2004   |      0       |  98042  | 47.36923712 |\n",
      "+---------------+----------+--------------+---------+-------------+\n",
      "+---------------+---------------+-----+\n",
      "|      long     | sqft_living15 | ... |\n",
      "+---------------+---------------+-----+\n",
      "| -122.28583258 |     2580.0    | ... |\n",
      "| -122.02177564 |     2710.0    | ... |\n",
      "| -122.10144844 |     3850.0    | ... |\n",
      "| -122.12606473 |     1880.0    | ... |\n",
      "+---------------+---------------+-----+\n",
      "[4 rows x 21 columns]\n",
      "\n"
     ]
    }
   ],
   "source": [
    "n = len(train_valid_shuffled)\n",
    "first_two = train_valid_shuffled[0:2]\n",
    "last_two = train_valid_shuffled[n-2:n]\n",
    "print first_two.append(last_two)"
   ]
  },
  {
   "cell_type": "markdown",
   "metadata": {},
   "source": [
    "Extract the remainder of the data after *excluding* fourth segment (segment 3) and assign the subset to `train4`."
   ]
  },
  {
   "cell_type": "code",
   "execution_count": 57,
   "metadata": {
    "collapsed": false
   },
   "outputs": [],
   "source": [
    "first = train_valid_shuffled[:n*3/k-1+1]\n",
    "last = train_valid_shuffled[n*4/k:]\n",
    "train4 = first.append(last)"
   ]
  },
  {
   "cell_type": "markdown",
   "metadata": {},
   "source": [
    "To verify that we have the right elements extracted, run the following cell, which computes the average price of the data with fourth segment excluded. When rounded to nearest whole number, the average should be $539,450."
   ]
  },
  {
   "cell_type": "code",
   "execution_count": 58,
   "metadata": {
    "collapsed": false
   },
   "outputs": [
    {
     "name": "stdout",
     "output_type": "stream",
     "text": [
      "539450\n"
     ]
    }
   ],
   "source": [
    "print int(round(train4['price'].mean(), 0))"
   ]
  },
  {
   "cell_type": "markdown",
   "metadata": {},
   "source": [
    "Now we are ready to implement k-fold cross-validation. Write a function that computes k validation errors by designating each of the k segments as the validation set. It accepts as parameters (i) `k`, (ii) `l2_penalty`, (iii) dataframe, (iv) name of output column (e.g. `price`) and (v) list of feature names. The function returns the average validation error using k segments as validation sets.\n",
    "\n",
    "* For each i in [0, 1, ..., k-1]:\n",
    "  * Compute starting and ending indices of segment i and call 'start' and 'end'\n",
    "  * Form validation set by taking a slice (start:end+1) from the data.\n",
    "  * Form training set by appending slice (end+1:n) to the end of slice (0:start).\n",
    "  * Train a linear model using training set just formed, with a given l2_penalty\n",
    "  * Compute validation error using validation set just formed"
   ]
  },
  {
   "cell_type": "code",
   "execution_count": 60,
   "metadata": {
    "collapsed": false
   },
   "outputs": [],
   "source": [
    "# function for computing RSS\n",
    "def compute_rss(model, data, outcome):\n",
    "    # get predictions\n",
    "    predictions = model.predict(data)\n",
    "    \n",
    "    # compute residuals\n",
    "    residuals = predictions - outcome\n",
    "    \n",
    "    # compute RSS\n",
    "    RSS = (residuals ** 2).sum()\n",
    "    \n",
    "    return RSS\n",
    "\n",
    "\n",
    "def k_fold_cross_validation(k, l2_penalty, data, output_name, features_list):\n",
    "    # get number of data points\n",
    "    n = len(data)\n",
    "    \n",
    "    # initialize error\n",
    "    error = 0.\n",
    "    \n",
    "    for i in xrange(k):\n",
    "        # start and end indices\n",
    "        start = n*i/k\n",
    "        end = n*(i+1)/k - 1\n",
    "        \n",
    "        # grab start:end+1 from data\n",
    "        validation = data[start:end+1]\n",
    "        \n",
    "        # form training set\n",
    "        first = data[0:start]\n",
    "        training = first.append(data[end+1:n])\n",
    "        \n",
    "        # train the model\n",
    "        model = graphlab.linear_regression.create(training,\n",
    "                                                  target = output_name,\n",
    "                                                  features = features_list,\n",
    "                                                  l2_penalty = l2_penalty,\n",
    "                                                  validation_set = None,\n",
    "                                                  verbose = False)\n",
    "        \n",
    "        # compute rss\n",
    "        error_k = compute_rss(model, validation, validation[output_name])\n",
    "        \n",
    "        # add to the total error\n",
    "        error += error_k\n",
    "        \n",
    "    return error/k"
   ]
  },
  {
   "cell_type": "markdown",
   "metadata": {},
   "source": [
    "Once we have a function to compute the average validation error for a model, we can write a loop to find the model that minimizes the average validation error. Write a loop that does the following:\n",
    "* We will again be aiming to fit a 15th-order polynomial model using the `sqft_living` input\n",
    "* For `l2_penalty` in [10^1, 10^1.5, 10^2, 10^2.5, ..., 10^7] (to get this in Python, you can use this Numpy function: `np.logspace(1, 7, num=13)`.)\n",
    "    * Run 10-fold cross-validation with `l2_penalty`\n",
    "* Report which L2 penalty produced the lowest average validation error.\n",
    "\n",
    "Note: since the degree of the polynomial is now fixed to 15, to make things faster, you should generate polynomial features in advance and re-use them throughout the loop. Make sure to use `train_valid_shuffled` when generating polynomial features!"
   ]
  },
  {
   "cell_type": "code",
   "execution_count": 65,
   "metadata": {
    "collapsed": false
   },
   "outputs": [
    {
     "name": "stdout",
     "output_type": "stream",
     "text": [
      "L2-Penalty = 10.0, Error Estimate = 4.91826427769e+14\n",
      "L2-Penalty = 31.6227766017, Error Estimate = 2.87504229919e+14\n",
      "L2-Penalty = 100.0, Error Estimate = 1.60908965822e+14\n",
      "L2-Penalty = 316.227766017, Error Estimate = 1.22090967326e+14\n",
      "L2-Penalty = 1000.0, Error Estimate = 1.21192264451e+14\n",
      "L2-Penalty = 3162.27766017, Error Estimate = 1.2395000929e+14\n",
      "L2-Penalty = 10000.0, Error Estimate = 1.36837175248e+14\n",
      "L2-Penalty = 31622.7766017, Error Estimate = 1.71728094842e+14\n",
      "L2-Penalty = 100000.0, Error Estimate = 2.2936143126e+14\n",
      "L2-Penalty = 316227.766017, Error Estimate = 2.52940568729e+14\n",
      "L2-Penalty = 1000000.0, Error Estimate = 2.58682548441e+14\n",
      "L2-Penalty = 3162277.66017, Error Estimate = 2.62819399742e+14\n",
      "L2-Penalty = 10000000.0, Error Estimate = 2.64889015378e+14\n"
     ]
    }
   ],
   "source": [
    "import numpy as np \n",
    "\n",
    "# generate polynomial features\n",
    "poly_validate = polynomial_sframe(train_valid_shuffled['sqft_living'], 15)\n",
    "names = poly_validate.column_names()\n",
    "poly_validate['price'] = train_valid_shuffled['price']\n",
    "\n",
    "total_errors = []\n",
    "\n",
    "# loop and find the best L2 penalty\n",
    "for l2_penalty in np.logspace(1, 7, num = 13):\n",
    "    err = k_fold_cross_validation(10, l2_penalty, poly_validate,'price', names)\n",
    "    print \"L2-Penalty = {0}, Error Estimate = {1}\".format(l2_penalty, err)\n",
    "    total_errors.append(err)\n",
    "\n",
    "total_errors = np.array(total_errors)"
   ]
  },
  {
   "cell_type": "markdown",
   "metadata": {},
   "source": [
    "***QUIZ QUESTIONS:  What is the best value for the L2 penalty according to 10-fold validation?***"
   ]
  },
  {
   "cell_type": "markdown",
   "metadata": {},
   "source": [
    "You may find it useful to plot the k-fold cross-validation errors you have obtained to better understand the behavior of the method.  "
   ]
  },
  {
   "cell_type": "code",
   "execution_count": 85,
   "metadata": {
    "collapsed": false
   },
   "outputs": [
    {
     "data": {
      "text/plain": [
       "<matplotlib.text.Text at 0x11b7d6b90>"
      ]
     },
     "execution_count": 85,
     "metadata": {},
     "output_type": "execute_result"
    },
    {
     "data": {
      "image/png": "[encoded data removed]",
      "text/plain": [
       "<matplotlib.figure.Figure at 0x11b904ed0>"
      ]
     },
     "metadata": {},
     "output_type": "display_data"
    }
   ],
   "source": [
    "# Plot the l2_penalty values in the x axis and the cross-validation error in the y axis.\n",
    "# Using plt.xscale('log') will make your plot more intuitive.\n",
    "l2_pen = np.logspace(1, 7, num = 13)\n",
    "\n",
    "plt.figure()\n",
    "plt.plot(l2_pen, total_errors, '-', color='purple', linewidth=2.0)\n",
    "plt.grid()\n",
    "plt.xscale('log')\n",
    "plt.xlabel(\"L2-penalty\")\n",
    "plt.ylabel(\"Estimate of generalization error\")\n"
   ]
  },
  {
   "cell_type": "markdown",
   "metadata": {},
   "source": [
    "Once you found the best value for the L2 penalty using cross-validation, it is important to retrain a final model on all of the training data using this value of `l2_penalty`.  This way, your final model will be trained on the entire dataset."
   ]
  },
  {
   "cell_type": "code",
   "execution_count": 87,
   "metadata": {
    "collapsed": false
   },
   "outputs": [
    {
     "data": {
      "text/plain": [
       "1000.0"
      ]
     },
     "execution_count": 87,
     "metadata": {},
     "output_type": "execute_result"
    }
   ],
   "source": [
    "idx = np.where(total_errors==np.min(total_errors))\n",
    "l2_pen_optimal = l2_pen[idx][0]\n",
    "l2_pen_optimal"
   ]
  },
  {
   "cell_type": "markdown",
   "metadata": {},
   "source": [
    "***QUIZ QUESTION: Using the best L2 penalty found above, train a model using all training data. What is the RSS on the TEST data of the model you learn with this L2 penalty? ***\n",
    "\n",
    "We will make use of `(train_valid, test)`"
   ]
  },
  {
   "cell_type": "code",
   "execution_count": 91,
   "metadata": {
    "collapsed": false
   },
   "outputs": [
    {
     "name": "stdout",
     "output_type": "stream",
     "text": [
      "1.28780855058e+14\n"
     ]
    }
   ],
   "source": [
    "# create polynomial features for train and testing set\n",
    "\n",
    "# training\n",
    "poly_final = polynomial_sframe(train_valid['sqft_living'], 15)\n",
    "final_features = poly_final.column_names()\n",
    "poly_final['price'] = train_valid['price']\n",
    "\n",
    "# testing\n",
    "poly_testing = polynomial_sframe(test['sqft_living'], 15)\n",
    "poly_testing['price'] = test['price']\n",
    "\n",
    "# train the model\n",
    "model = graphlab.linear_regression.create(poly_final,\n",
    "                                          target = 'price',\n",
    "                                          features = final_features,\n",
    "                                          l2_penalty = l2_pen_optimal,\n",
    "                                          validation_set = None,\n",
    "                                          verbose = False)\n",
    "\n",
    "# compute rss on the test set\n",
    "print compute_rss(model, poly_testing, poly_testing['price'])"
   ]
  },
  {
   "cell_type": "markdown",
   "metadata": {},
   "source": [
    "# Done"
   ]
  }
 ],
 "metadata": {
  "kernelspec": {
   "display_name": "Python 2",
   "language": "python",
   "name": "python2"
  },
  "language_info": {
   "codemirror_mode": {
    "name": "ipython",
    "version": 2
   },
   "file_extension": ".py",
   "mimetype": "text/x-python",
   "name": "python",
   "nbconvert_exporter": "python",
   "pygments_lexer": "ipython2",
   "version": "2.7.10"
  }
 },
 "nbformat": 4,
 "nbformat_minor": 0
}
